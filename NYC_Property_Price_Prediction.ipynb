{
  "cells": [
    {
      "cell_type": "markdown",
      "metadata": {
        "id": "oKWhZWV7jwzX"
      },
      "source": [
        "# NYC Properties price prediction "
      ]
    },
    {
      "cell_type": "markdown",
      "metadata": {
        "id": "6H9Doli9kB70"
      },
      "source": [
        "Dataset: [https://www.kaggle.com/new-york-city/nyc-property-sales](https://www.kaggle.com/new-york-city/nyc-property-sales)"
      ]
    },
    {
      "cell_type": "code",
      "execution_count": 1,
      "metadata": {
        "id": "jRgBEsTDkqsn"
      },
      "outputs": [],
      "source": [
        "import pandas as pd\n",
        "import numpy as np\n",
        "import matplotlib.pyplot as plt\n",
        "from sklearn.preprocessing import OrdinalEncoder\n",
        "from xgboost import XGBRegressor\n",
        "import seaborn as sns\n",
        "from sklearn.linear_model import LinearRegression"
      ]
    },
    {
      "cell_type": "code",
      "execution_count": 2,
      "metadata": {
        "id": "mHiQygrIlanF"
      },
      "outputs": [],
      "source": [
        "path = 'https://raw.githubusercontent.com/absiddik7/Datasets/main/nyc-rolling-sales.csv'\n",
        "dataset = pd.read_csv(path)"
      ]
    },
    {
      "cell_type": "code",
      "source": [
        "dataset.head()"
      ],
      "metadata": {
        "colab": {
          "base_uri": "https://localhost:8080/",
          "height": 629
        },
        "id": "vYMNNwZEhBx_",
        "outputId": "f168b007-5bd0-4db1-e162-fef76d22025d"
      },
      "execution_count": 5,
      "outputs": [
        {
          "output_type": "execute_result",
          "data": {
            "text/plain": [
              "   Unnamed: 0  BOROUGH   NEIGHBORHOOD  \\\n",
              "0           4        1  ALPHABET CITY   \n",
              "1           5        1  ALPHABET CITY   \n",
              "2           6        1  ALPHABET CITY   \n",
              "3           7        1  ALPHABET CITY   \n",
              "4           8        1  ALPHABET CITY   \n",
              "\n",
              "                       BUILDING CLASS CATEGORY TAX CLASS AT PRESENT  BLOCK  \\\n",
              "0  07 RENTALS - WALKUP APARTMENTS                                2A    392   \n",
              "1  07 RENTALS - WALKUP APARTMENTS                                 2    399   \n",
              "2  07 RENTALS - WALKUP APARTMENTS                                 2    399   \n",
              "3  07 RENTALS - WALKUP APARTMENTS                                2B    402   \n",
              "4  07 RENTALS - WALKUP APARTMENTS                                2A    404   \n",
              "\n",
              "   LOT EASE-MENT BUILDING CLASS AT PRESENT                 ADDRESS  ...  \\\n",
              "0    6                                  C2            153 AVENUE B  ...   \n",
              "1   26                                  C7   234 EAST 4TH   STREET  ...   \n",
              "2   39                                  C7   197 EAST 3RD   STREET  ...   \n",
              "3   21                                  C4     154 EAST 7TH STREET  ...   \n",
              "4   55                                  C2  301 EAST 10TH   STREET  ...   \n",
              "\n",
              "  RESIDENTIAL UNITS  COMMERCIAL UNITS  TOTAL UNITS  LAND SQUARE FEET  \\\n",
              "0                 5                 0            5              1633   \n",
              "1                28                 3           31              4616   \n",
              "2                16                 1           17              2212   \n",
              "3                10                 0           10              2272   \n",
              "4                 6                 0            6              2369   \n",
              "\n",
              "   GROSS SQUARE FEET YEAR BUILT TAX CLASS AT TIME OF SALE  \\\n",
              "0               6440       1900                         2   \n",
              "1              18690       1900                         2   \n",
              "2               7803       1900                         2   \n",
              "3               6794       1913                         2   \n",
              "4               4615       1900                         2   \n",
              "\n",
              "   BUILDING CLASS AT TIME OF SALE  SALE PRICE            SALE DATE  \n",
              "0                              C2     6625000  2017-07-19 00:00:00  \n",
              "1                              C7         -    2016-12-14 00:00:00  \n",
              "2                              C7         -    2016-12-09 00:00:00  \n",
              "3                              C4     3936272  2016-09-23 00:00:00  \n",
              "4                              C2     8000000  2016-11-17 00:00:00  \n",
              "\n",
              "[5 rows x 22 columns]"
            ],
            "text/html": [
              "\n",
              "  <div id=\"df-02db21c9-e787-47ac-b3f1-31c04539828d\">\n",
              "    <div class=\"colab-df-container\">\n",
              "      <div>\n",
              "<style scoped>\n",
              "    .dataframe tbody tr th:only-of-type {\n",
              "        vertical-align: middle;\n",
              "    }\n",
              "\n",
              "    .dataframe tbody tr th {\n",
              "        vertical-align: top;\n",
              "    }\n",
              "\n",
              "    .dataframe thead th {\n",
              "        text-align: right;\n",
              "    }\n",
              "</style>\n",
              "<table border=\"1\" class=\"dataframe\">\n",
              "  <thead>\n",
              "    <tr style=\"text-align: right;\">\n",
              "      <th></th>\n",
              "      <th>Unnamed: 0</th>\n",
              "      <th>BOROUGH</th>\n",
              "      <th>NEIGHBORHOOD</th>\n",
              "      <th>BUILDING CLASS CATEGORY</th>\n",
              "      <th>TAX CLASS AT PRESENT</th>\n",
              "      <th>BLOCK</th>\n",
              "      <th>LOT</th>\n",
              "      <th>EASE-MENT</th>\n",
              "      <th>BUILDING CLASS AT PRESENT</th>\n",
              "      <th>ADDRESS</th>\n",
              "      <th>...</th>\n",
              "      <th>RESIDENTIAL UNITS</th>\n",
              "      <th>COMMERCIAL UNITS</th>\n",
              "      <th>TOTAL UNITS</th>\n",
              "      <th>LAND SQUARE FEET</th>\n",
              "      <th>GROSS SQUARE FEET</th>\n",
              "      <th>YEAR BUILT</th>\n",
              "      <th>TAX CLASS AT TIME OF SALE</th>\n",
              "      <th>BUILDING CLASS AT TIME OF SALE</th>\n",
              "      <th>SALE PRICE</th>\n",
              "      <th>SALE DATE</th>\n",
              "    </tr>\n",
              "  </thead>\n",
              "  <tbody>\n",
              "    <tr>\n",
              "      <th>0</th>\n",
              "      <td>4</td>\n",
              "      <td>1</td>\n",
              "      <td>ALPHABET CITY</td>\n",
              "      <td>07 RENTALS - WALKUP APARTMENTS</td>\n",
              "      <td>2A</td>\n",
              "      <td>392</td>\n",
              "      <td>6</td>\n",
              "      <td></td>\n",
              "      <td>C2</td>\n",
              "      <td>153 AVENUE B</td>\n",
              "      <td>...</td>\n",
              "      <td>5</td>\n",
              "      <td>0</td>\n",
              "      <td>5</td>\n",
              "      <td>1633</td>\n",
              "      <td>6440</td>\n",
              "      <td>1900</td>\n",
              "      <td>2</td>\n",
              "      <td>C2</td>\n",
              "      <td>6625000</td>\n",
              "      <td>2017-07-19 00:00:00</td>\n",
              "    </tr>\n",
              "    <tr>\n",
              "      <th>1</th>\n",
              "      <td>5</td>\n",
              "      <td>1</td>\n",
              "      <td>ALPHABET CITY</td>\n",
              "      <td>07 RENTALS - WALKUP APARTMENTS</td>\n",
              "      <td>2</td>\n",
              "      <td>399</td>\n",
              "      <td>26</td>\n",
              "      <td></td>\n",
              "      <td>C7</td>\n",
              "      <td>234 EAST 4TH   STREET</td>\n",
              "      <td>...</td>\n",
              "      <td>28</td>\n",
              "      <td>3</td>\n",
              "      <td>31</td>\n",
              "      <td>4616</td>\n",
              "      <td>18690</td>\n",
              "      <td>1900</td>\n",
              "      <td>2</td>\n",
              "      <td>C7</td>\n",
              "      <td>-</td>\n",
              "      <td>2016-12-14 00:00:00</td>\n",
              "    </tr>\n",
              "    <tr>\n",
              "      <th>2</th>\n",
              "      <td>6</td>\n",
              "      <td>1</td>\n",
              "      <td>ALPHABET CITY</td>\n",
              "      <td>07 RENTALS - WALKUP APARTMENTS</td>\n",
              "      <td>2</td>\n",
              "      <td>399</td>\n",
              "      <td>39</td>\n",
              "      <td></td>\n",
              "      <td>C7</td>\n",
              "      <td>197 EAST 3RD   STREET</td>\n",
              "      <td>...</td>\n",
              "      <td>16</td>\n",
              "      <td>1</td>\n",
              "      <td>17</td>\n",
              "      <td>2212</td>\n",
              "      <td>7803</td>\n",
              "      <td>1900</td>\n",
              "      <td>2</td>\n",
              "      <td>C7</td>\n",
              "      <td>-</td>\n",
              "      <td>2016-12-09 00:00:00</td>\n",
              "    </tr>\n",
              "    <tr>\n",
              "      <th>3</th>\n",
              "      <td>7</td>\n",
              "      <td>1</td>\n",
              "      <td>ALPHABET CITY</td>\n",
              "      <td>07 RENTALS - WALKUP APARTMENTS</td>\n",
              "      <td>2B</td>\n",
              "      <td>402</td>\n",
              "      <td>21</td>\n",
              "      <td></td>\n",
              "      <td>C4</td>\n",
              "      <td>154 EAST 7TH STREET</td>\n",
              "      <td>...</td>\n",
              "      <td>10</td>\n",
              "      <td>0</td>\n",
              "      <td>10</td>\n",
              "      <td>2272</td>\n",
              "      <td>6794</td>\n",
              "      <td>1913</td>\n",
              "      <td>2</td>\n",
              "      <td>C4</td>\n",
              "      <td>3936272</td>\n",
              "      <td>2016-09-23 00:00:00</td>\n",
              "    </tr>\n",
              "    <tr>\n",
              "      <th>4</th>\n",
              "      <td>8</td>\n",
              "      <td>1</td>\n",
              "      <td>ALPHABET CITY</td>\n",
              "      <td>07 RENTALS - WALKUP APARTMENTS</td>\n",
              "      <td>2A</td>\n",
              "      <td>404</td>\n",
              "      <td>55</td>\n",
              "      <td></td>\n",
              "      <td>C2</td>\n",
              "      <td>301 EAST 10TH   STREET</td>\n",
              "      <td>...</td>\n",
              "      <td>6</td>\n",
              "      <td>0</td>\n",
              "      <td>6</td>\n",
              "      <td>2369</td>\n",
              "      <td>4615</td>\n",
              "      <td>1900</td>\n",
              "      <td>2</td>\n",
              "      <td>C2</td>\n",
              "      <td>8000000</td>\n",
              "      <td>2016-11-17 00:00:00</td>\n",
              "    </tr>\n",
              "  </tbody>\n",
              "</table>\n",
              "<p>5 rows × 22 columns</p>\n",
              "</div>\n",
              "      <button class=\"colab-df-convert\" onclick=\"convertToInteractive('df-02db21c9-e787-47ac-b3f1-31c04539828d')\"\n",
              "              title=\"Convert this dataframe to an interactive table.\"\n",
              "              style=\"display:none;\">\n",
              "        \n",
              "  <svg xmlns=\"http://www.w3.org/2000/svg\" height=\"24px\"viewBox=\"0 0 24 24\"\n",
              "       width=\"24px\">\n",
              "    <path d=\"M0 0h24v24H0V0z\" fill=\"none\"/>\n",
              "    <path d=\"M18.56 5.44l.94 2.06.94-2.06 2.06-.94-2.06-.94-.94-2.06-.94 2.06-2.06.94zm-11 1L8.5 8.5l.94-2.06 2.06-.94-2.06-.94L8.5 2.5l-.94 2.06-2.06.94zm10 10l.94 2.06.94-2.06 2.06-.94-2.06-.94-.94-2.06-.94 2.06-2.06.94z\"/><path d=\"M17.41 7.96l-1.37-1.37c-.4-.4-.92-.59-1.43-.59-.52 0-1.04.2-1.43.59L10.3 9.45l-7.72 7.72c-.78.78-.78 2.05 0 2.83L4 21.41c.39.39.9.59 1.41.59.51 0 1.02-.2 1.41-.59l7.78-7.78 2.81-2.81c.8-.78.8-2.07 0-2.86zM5.41 20L4 18.59l7.72-7.72 1.47 1.35L5.41 20z\"/>\n",
              "  </svg>\n",
              "      </button>\n",
              "      \n",
              "  <style>\n",
              "    .colab-df-container {\n",
              "      display:flex;\n",
              "      flex-wrap:wrap;\n",
              "      gap: 12px;\n",
              "    }\n",
              "\n",
              "    .colab-df-convert {\n",
              "      background-color: #E8F0FE;\n",
              "      border: none;\n",
              "      border-radius: 50%;\n",
              "      cursor: pointer;\n",
              "      display: none;\n",
              "      fill: #1967D2;\n",
              "      height: 32px;\n",
              "      padding: 0 0 0 0;\n",
              "      width: 32px;\n",
              "    }\n",
              "\n",
              "    .colab-df-convert:hover {\n",
              "      background-color: #E2EBFA;\n",
              "      box-shadow: 0px 1px 2px rgba(60, 64, 67, 0.3), 0px 1px 3px 1px rgba(60, 64, 67, 0.15);\n",
              "      fill: #174EA6;\n",
              "    }\n",
              "\n",
              "    [theme=dark] .colab-df-convert {\n",
              "      background-color: #3B4455;\n",
              "      fill: #D2E3FC;\n",
              "    }\n",
              "\n",
              "    [theme=dark] .colab-df-convert:hover {\n",
              "      background-color: #434B5C;\n",
              "      box-shadow: 0px 1px 3px 1px rgba(0, 0, 0, 0.15);\n",
              "      filter: drop-shadow(0px 1px 2px rgba(0, 0, 0, 0.3));\n",
              "      fill: #FFFFFF;\n",
              "    }\n",
              "  </style>\n",
              "\n",
              "      <script>\n",
              "        const buttonEl =\n",
              "          document.querySelector('#df-02db21c9-e787-47ac-b3f1-31c04539828d button.colab-df-convert');\n",
              "        buttonEl.style.display =\n",
              "          google.colab.kernel.accessAllowed ? 'block' : 'none';\n",
              "\n",
              "        async function convertToInteractive(key) {\n",
              "          const element = document.querySelector('#df-02db21c9-e787-47ac-b3f1-31c04539828d');\n",
              "          const dataTable =\n",
              "            await google.colab.kernel.invokeFunction('convertToInteractive',\n",
              "                                                     [key], {});\n",
              "          if (!dataTable) return;\n",
              "\n",
              "          const docLinkHtml = 'Like what you see? Visit the ' +\n",
              "            '<a target=\"_blank\" href=https://colab.research.google.com/notebooks/data_table.ipynb>data table notebook</a>'\n",
              "            + ' to learn more about interactive tables.';\n",
              "          element.innerHTML = '';\n",
              "          dataTable['output_type'] = 'display_data';\n",
              "          await google.colab.output.renderOutput(dataTable, element);\n",
              "          const docLink = document.createElement('div');\n",
              "          docLink.innerHTML = docLinkHtml;\n",
              "          element.appendChild(docLink);\n",
              "        }\n",
              "      </script>\n",
              "    </div>\n",
              "  </div>\n",
              "  "
            ]
          },
          "metadata": {},
          "execution_count": 5
        }
      ]
    },
    {
      "cell_type": "code",
      "execution_count": 4,
      "metadata": {
        "id": "L-7wxQAZ9Fx9",
        "colab": {
          "base_uri": "https://localhost:8080/"
        },
        "outputId": "0b8f3e35-55e0-40a5-9afd-68695dfc8e38"
      },
      "outputs": [
        {
          "output_type": "stream",
          "name": "stdout",
          "text": [
            "<class 'pandas.core.frame.DataFrame'>\n",
            "RangeIndex: 84548 entries, 0 to 84547\n",
            "Data columns (total 22 columns):\n",
            " #   Column                          Non-Null Count  Dtype \n",
            "---  ------                          --------------  ----- \n",
            " 0   Unnamed: 0                      84548 non-null  int64 \n",
            " 1   BOROUGH                         84548 non-null  int64 \n",
            " 2   NEIGHBORHOOD                    84548 non-null  object\n",
            " 3   BUILDING CLASS CATEGORY         84548 non-null  object\n",
            " 4   TAX CLASS AT PRESENT            84548 non-null  object\n",
            " 5   BLOCK                           84548 non-null  int64 \n",
            " 6   LOT                             84548 non-null  int64 \n",
            " 7   EASE-MENT                       84548 non-null  object\n",
            " 8   BUILDING CLASS AT PRESENT       84548 non-null  object\n",
            " 9   ADDRESS                         84548 non-null  object\n",
            " 10  APARTMENT NUMBER                84548 non-null  object\n",
            " 11  ZIP CODE                        84548 non-null  int64 \n",
            " 12  RESIDENTIAL UNITS               84548 non-null  int64 \n",
            " 13  COMMERCIAL UNITS                84548 non-null  int64 \n",
            " 14  TOTAL UNITS                     84548 non-null  int64 \n",
            " 15  LAND SQUARE FEET                84548 non-null  object\n",
            " 16  GROSS SQUARE FEET               84548 non-null  object\n",
            " 17  YEAR BUILT                      84548 non-null  int64 \n",
            " 18  TAX CLASS AT TIME OF SALE       84548 non-null  int64 \n",
            " 19  BUILDING CLASS AT TIME OF SALE  84548 non-null  object\n",
            " 20  SALE PRICE                      84548 non-null  object\n",
            " 21  SALE DATE                       84548 non-null  object\n",
            "dtypes: int64(10), object(12)\n",
            "memory usage: 14.2+ MB\n"
          ]
        }
      ],
      "source": [
        "dataset.info()"
      ]
    },
    {
      "cell_type": "markdown",
      "metadata": {
        "id": "-eTIQh_GT2Rn"
      },
      "source": [
        "#Fix Structural Errors and Data Formatting"
      ]
    },
    {
      "cell_type": "code",
      "execution_count": null,
      "metadata": {
        "id": "YzgqF-jbUDjm"
      },
      "outputs": [],
      "source": [
        "dataset.replace(' ',np.nan,inplace=True)"
      ]
    },
    {
      "cell_type": "markdown",
      "metadata": {
        "id": "3JlPNeTqj8Qe"
      },
      "source": [
        "Here we can see, there are some columns that are mistyped. Let's correct them."
      ]
    },
    {
      "cell_type": "code",
      "execution_count": null,
      "metadata": {
        "id": "-8zxq2nGmOJJ"
      },
      "outputs": [],
      "source": [
        "num_col = ['LAND SQUARE FEET','GROSS SQUARE FEET','SALE PRICE']\n",
        "for item in num_col:\n",
        "  dataset[item] = pd.to_numeric(dataset[item],errors = 'coerce')"
      ]
    },
    {
      "cell_type": "code",
      "execution_count": null,
      "metadata": {
        "id": "iWkJAs2eXmSh"
      },
      "outputs": [],
      "source": [
        "dataset['SALE DATE'] = pd.to_datetime(dataset['SALE DATE'],errors = 'coerce')"
      ]
    },
    {
      "cell_type": "code",
      "execution_count": null,
      "metadata": {
        "id": "D1blI1AOTGzZ"
      },
      "outputs": [],
      "source": [
        "categorical_col = ['BOROUGH','TAX CLASS AT PRESENT','BUILDING CLASS AT PRESENT','TAX CLASS AT TIME OF SALE','BUILDING CLASS AT TIME OF SALE']\n",
        "for item in categorical_col:\n",
        "  dataset[item] = dataset[item].astype('object')"
      ]
    },
    {
      "cell_type": "code",
      "execution_count": null,
      "metadata": {
        "id": "j7Q8PokXH2JU"
      },
      "outputs": [],
      "source": [
        "dataset['SALE DATE'] = pd.to_datetime(dataset['SALE DATE'], errors='coerce')"
      ]
    },
    {
      "cell_type": "markdown",
      "metadata": {
        "id": "J3gTabVT-D56"
      },
      "source": [
        "Separate selling year and month"
      ]
    },
    {
      "cell_type": "code",
      "execution_count": null,
      "metadata": {
        "id": "3B_C7iGy-D6D"
      },
      "outputs": [],
      "source": [
        "dataset['SALE YEAR'] = pd.DatetimeIndex(dataset['SALE DATE']).year\n",
        "dataset['SALE MONTH'] = pd.DatetimeIndex(dataset['SALE DATE']).month"
      ]
    },
    {
      "cell_type": "markdown",
      "metadata": {
        "id": "GNaPcRR84fHE"
      },
      "source": [
        "Encoding Categorical Values"
      ]
    },
    {
      "cell_type": "code",
      "execution_count": null,
      "metadata": {
        "id": "eXwTYJrA4mwd"
      },
      "outputs": [],
      "source": [
        "ordEncoder = OrdinalEncoder()\n",
        "dataset[['NEIGHBORHOOD','BUILDING CLASS CATEGORY','TAX CLASS AT PRESENT','BUILDING CLASS AT PRESENT','BUILDING CLASS AT TIME OF SALE']] = ordEncoder.fit_transform(dataset[['NEIGHBORHOOD','BUILDING CLASS CATEGORY','TAX CLASS AT PRESENT','BUILDING CLASS AT PRESENT','BUILDING CLASS AT TIME OF SALE']])"
      ]
    },
    {
      "cell_type": "code",
      "execution_count": null,
      "metadata": {
        "colab": {
          "base_uri": "https://localhost:8080/",
          "height": 629
        },
        "id": "ZQ49lx9pP6g1",
        "outputId": "26e801ff-cf3e-4e8e-aca5-5cc8af176de0"
      },
      "outputs": [
        {
          "output_type": "execute_result",
          "data": {
            "text/plain": [
              "   Unnamed: 0 BOROUGH  NEIGHBORHOOD  BUILDING CLASS CATEGORY  \\\n",
              "0           4       1           1.0                      6.0   \n",
              "1           5       1           1.0                      6.0   \n",
              "2           6       1           1.0                      6.0   \n",
              "3           7       1           1.0                      6.0   \n",
              "4           8       1           1.0                      6.0   \n",
              "\n",
              "   TAX CLASS AT PRESENT  BLOCK  LOT  EASE-MENT  BUILDING CLASS AT PRESENT  \\\n",
              "0                   5.0    392    6        NaN                       15.0   \n",
              "1                   4.0    399   26        NaN                       20.0   \n",
              "2                   4.0    399   39        NaN                       20.0   \n",
              "3                   6.0    402   21        NaN                       17.0   \n",
              "4                   5.0    404   55        NaN                       15.0   \n",
              "\n",
              "                  ADDRESS  ... TOTAL UNITS  LAND SQUARE FEET  \\\n",
              "0            153 AVENUE B  ...           5            1633.0   \n",
              "1   234 EAST 4TH   STREET  ...          31            4616.0   \n",
              "2   197 EAST 3RD   STREET  ...          17            2212.0   \n",
              "3     154 EAST 7TH STREET  ...          10            2272.0   \n",
              "4  301 EAST 10TH   STREET  ...           6            2369.0   \n",
              "\n",
              "   GROSS SQUARE FEET  YEAR BUILT  TAX CLASS AT TIME OF SALE  \\\n",
              "0             6440.0        1900                          2   \n",
              "1            18690.0        1900                          2   \n",
              "2             7803.0        1900                          2   \n",
              "3             6794.0        1913                          2   \n",
              "4             4615.0        1900                          2   \n",
              "\n",
              "   BUILDING CLASS AT TIME OF SALE  SALE PRICE  SALE DATE SALE YEAR  SALE MONTH  \n",
              "0                            15.0   6625000.0 2017-07-19      2017           7  \n",
              "1                            20.0         NaN 2016-12-14      2016          12  \n",
              "2                            20.0         NaN 2016-12-09      2016          12  \n",
              "3                            17.0   3936272.0 2016-09-23      2016           9  \n",
              "4                            15.0   8000000.0 2016-11-17      2016          11  \n",
              "\n",
              "[5 rows x 24 columns]"
            ],
            "text/html": [
              "\n",
              "  <div id=\"df-532f2b8e-910f-402c-a17e-fcc658754080\">\n",
              "    <div class=\"colab-df-container\">\n",
              "      <div>\n",
              "<style scoped>\n",
              "    .dataframe tbody tr th:only-of-type {\n",
              "        vertical-align: middle;\n",
              "    }\n",
              "\n",
              "    .dataframe tbody tr th {\n",
              "        vertical-align: top;\n",
              "    }\n",
              "\n",
              "    .dataframe thead th {\n",
              "        text-align: right;\n",
              "    }\n",
              "</style>\n",
              "<table border=\"1\" class=\"dataframe\">\n",
              "  <thead>\n",
              "    <tr style=\"text-align: right;\">\n",
              "      <th></th>\n",
              "      <th>Unnamed: 0</th>\n",
              "      <th>BOROUGH</th>\n",
              "      <th>NEIGHBORHOOD</th>\n",
              "      <th>BUILDING CLASS CATEGORY</th>\n",
              "      <th>TAX CLASS AT PRESENT</th>\n",
              "      <th>BLOCK</th>\n",
              "      <th>LOT</th>\n",
              "      <th>EASE-MENT</th>\n",
              "      <th>BUILDING CLASS AT PRESENT</th>\n",
              "      <th>ADDRESS</th>\n",
              "      <th>...</th>\n",
              "      <th>TOTAL UNITS</th>\n",
              "      <th>LAND SQUARE FEET</th>\n",
              "      <th>GROSS SQUARE FEET</th>\n",
              "      <th>YEAR BUILT</th>\n",
              "      <th>TAX CLASS AT TIME OF SALE</th>\n",
              "      <th>BUILDING CLASS AT TIME OF SALE</th>\n",
              "      <th>SALE PRICE</th>\n",
              "      <th>SALE DATE</th>\n",
              "      <th>SALE YEAR</th>\n",
              "      <th>SALE MONTH</th>\n",
              "    </tr>\n",
              "  </thead>\n",
              "  <tbody>\n",
              "    <tr>\n",
              "      <th>0</th>\n",
              "      <td>4</td>\n",
              "      <td>1</td>\n",
              "      <td>1.0</td>\n",
              "      <td>6.0</td>\n",
              "      <td>5.0</td>\n",
              "      <td>392</td>\n",
              "      <td>6</td>\n",
              "      <td>NaN</td>\n",
              "      <td>15.0</td>\n",
              "      <td>153 AVENUE B</td>\n",
              "      <td>...</td>\n",
              "      <td>5</td>\n",
              "      <td>1633.0</td>\n",
              "      <td>6440.0</td>\n",
              "      <td>1900</td>\n",
              "      <td>2</td>\n",
              "      <td>15.0</td>\n",
              "      <td>6625000.0</td>\n",
              "      <td>2017-07-19</td>\n",
              "      <td>2017</td>\n",
              "      <td>7</td>\n",
              "    </tr>\n",
              "    <tr>\n",
              "      <th>1</th>\n",
              "      <td>5</td>\n",
              "      <td>1</td>\n",
              "      <td>1.0</td>\n",
              "      <td>6.0</td>\n",
              "      <td>4.0</td>\n",
              "      <td>399</td>\n",
              "      <td>26</td>\n",
              "      <td>NaN</td>\n",
              "      <td>20.0</td>\n",
              "      <td>234 EAST 4TH   STREET</td>\n",
              "      <td>...</td>\n",
              "      <td>31</td>\n",
              "      <td>4616.0</td>\n",
              "      <td>18690.0</td>\n",
              "      <td>1900</td>\n",
              "      <td>2</td>\n",
              "      <td>20.0</td>\n",
              "      <td>NaN</td>\n",
              "      <td>2016-12-14</td>\n",
              "      <td>2016</td>\n",
              "      <td>12</td>\n",
              "    </tr>\n",
              "    <tr>\n",
              "      <th>2</th>\n",
              "      <td>6</td>\n",
              "      <td>1</td>\n",
              "      <td>1.0</td>\n",
              "      <td>6.0</td>\n",
              "      <td>4.0</td>\n",
              "      <td>399</td>\n",
              "      <td>39</td>\n",
              "      <td>NaN</td>\n",
              "      <td>20.0</td>\n",
              "      <td>197 EAST 3RD   STREET</td>\n",
              "      <td>...</td>\n",
              "      <td>17</td>\n",
              "      <td>2212.0</td>\n",
              "      <td>7803.0</td>\n",
              "      <td>1900</td>\n",
              "      <td>2</td>\n",
              "      <td>20.0</td>\n",
              "      <td>NaN</td>\n",
              "      <td>2016-12-09</td>\n",
              "      <td>2016</td>\n",
              "      <td>12</td>\n",
              "    </tr>\n",
              "    <tr>\n",
              "      <th>3</th>\n",
              "      <td>7</td>\n",
              "      <td>1</td>\n",
              "      <td>1.0</td>\n",
              "      <td>6.0</td>\n",
              "      <td>6.0</td>\n",
              "      <td>402</td>\n",
              "      <td>21</td>\n",
              "      <td>NaN</td>\n",
              "      <td>17.0</td>\n",
              "      <td>154 EAST 7TH STREET</td>\n",
              "      <td>...</td>\n",
              "      <td>10</td>\n",
              "      <td>2272.0</td>\n",
              "      <td>6794.0</td>\n",
              "      <td>1913</td>\n",
              "      <td>2</td>\n",
              "      <td>17.0</td>\n",
              "      <td>3936272.0</td>\n",
              "      <td>2016-09-23</td>\n",
              "      <td>2016</td>\n",
              "      <td>9</td>\n",
              "    </tr>\n",
              "    <tr>\n",
              "      <th>4</th>\n",
              "      <td>8</td>\n",
              "      <td>1</td>\n",
              "      <td>1.0</td>\n",
              "      <td>6.0</td>\n",
              "      <td>5.0</td>\n",
              "      <td>404</td>\n",
              "      <td>55</td>\n",
              "      <td>NaN</td>\n",
              "      <td>15.0</td>\n",
              "      <td>301 EAST 10TH   STREET</td>\n",
              "      <td>...</td>\n",
              "      <td>6</td>\n",
              "      <td>2369.0</td>\n",
              "      <td>4615.0</td>\n",
              "      <td>1900</td>\n",
              "      <td>2</td>\n",
              "      <td>15.0</td>\n",
              "      <td>8000000.0</td>\n",
              "      <td>2016-11-17</td>\n",
              "      <td>2016</td>\n",
              "      <td>11</td>\n",
              "    </tr>\n",
              "  </tbody>\n",
              "</table>\n",
              "<p>5 rows × 24 columns</p>\n",
              "</div>\n",
              "      <button class=\"colab-df-convert\" onclick=\"convertToInteractive('df-532f2b8e-910f-402c-a17e-fcc658754080')\"\n",
              "              title=\"Convert this dataframe to an interactive table.\"\n",
              "              style=\"display:none;\">\n",
              "        \n",
              "  <svg xmlns=\"http://www.w3.org/2000/svg\" height=\"24px\"viewBox=\"0 0 24 24\"\n",
              "       width=\"24px\">\n",
              "    <path d=\"M0 0h24v24H0V0z\" fill=\"none\"/>\n",
              "    <path d=\"M18.56 5.44l.94 2.06.94-2.06 2.06-.94-2.06-.94-.94-2.06-.94 2.06-2.06.94zm-11 1L8.5 8.5l.94-2.06 2.06-.94-2.06-.94L8.5 2.5l-.94 2.06-2.06.94zm10 10l.94 2.06.94-2.06 2.06-.94-2.06-.94-.94-2.06-.94 2.06-2.06.94z\"/><path d=\"M17.41 7.96l-1.37-1.37c-.4-.4-.92-.59-1.43-.59-.52 0-1.04.2-1.43.59L10.3 9.45l-7.72 7.72c-.78.78-.78 2.05 0 2.83L4 21.41c.39.39.9.59 1.41.59.51 0 1.02-.2 1.41-.59l7.78-7.78 2.81-2.81c.8-.78.8-2.07 0-2.86zM5.41 20L4 18.59l7.72-7.72 1.47 1.35L5.41 20z\"/>\n",
              "  </svg>\n",
              "      </button>\n",
              "      \n",
              "  <style>\n",
              "    .colab-df-container {\n",
              "      display:flex;\n",
              "      flex-wrap:wrap;\n",
              "      gap: 12px;\n",
              "    }\n",
              "\n",
              "    .colab-df-convert {\n",
              "      background-color: #E8F0FE;\n",
              "      border: none;\n",
              "      border-radius: 50%;\n",
              "      cursor: pointer;\n",
              "      display: none;\n",
              "      fill: #1967D2;\n",
              "      height: 32px;\n",
              "      padding: 0 0 0 0;\n",
              "      width: 32px;\n",
              "    }\n",
              "\n",
              "    .colab-df-convert:hover {\n",
              "      background-color: #E2EBFA;\n",
              "      box-shadow: 0px 1px 2px rgba(60, 64, 67, 0.3), 0px 1px 3px 1px rgba(60, 64, 67, 0.15);\n",
              "      fill: #174EA6;\n",
              "    }\n",
              "\n",
              "    [theme=dark] .colab-df-convert {\n",
              "      background-color: #3B4455;\n",
              "      fill: #D2E3FC;\n",
              "    }\n",
              "\n",
              "    [theme=dark] .colab-df-convert:hover {\n",
              "      background-color: #434B5C;\n",
              "      box-shadow: 0px 1px 3px 1px rgba(0, 0, 0, 0.15);\n",
              "      filter: drop-shadow(0px 1px 2px rgba(0, 0, 0, 0.3));\n",
              "      fill: #FFFFFF;\n",
              "    }\n",
              "  </style>\n",
              "\n",
              "      <script>\n",
              "        const buttonEl =\n",
              "          document.querySelector('#df-532f2b8e-910f-402c-a17e-fcc658754080 button.colab-df-convert');\n",
              "        buttonEl.style.display =\n",
              "          google.colab.kernel.accessAllowed ? 'block' : 'none';\n",
              "\n",
              "        async function convertToInteractive(key) {\n",
              "          const element = document.querySelector('#df-532f2b8e-910f-402c-a17e-fcc658754080');\n",
              "          const dataTable =\n",
              "            await google.colab.kernel.invokeFunction('convertToInteractive',\n",
              "                                                     [key], {});\n",
              "          if (!dataTable) return;\n",
              "\n",
              "          const docLinkHtml = 'Like what you see? Visit the ' +\n",
              "            '<a target=\"_blank\" href=https://colab.research.google.com/notebooks/data_table.ipynb>data table notebook</a>'\n",
              "            + ' to learn more about interactive tables.';\n",
              "          element.innerHTML = '';\n",
              "          dataTable['output_type'] = 'display_data';\n",
              "          await google.colab.output.renderOutput(dataTable, element);\n",
              "          const docLink = document.createElement('div');\n",
              "          docLink.innerHTML = docLinkHtml;\n",
              "          element.appendChild(docLink);\n",
              "        }\n",
              "      </script>\n",
              "    </div>\n",
              "  </div>\n",
              "  "
            ]
          },
          "metadata": {},
          "execution_count": 277
        }
      ],
      "source": [
        "dataset.head()"
      ]
    },
    {
      "cell_type": "code",
      "execution_count": null,
      "metadata": {
        "id": "vjUwMTPDUJq_"
      },
      "outputs": [],
      "source": [
        "df_copy = dataset.copy()\n",
        "df_copy.tail()"
      ]
    },
    {
      "cell_type": "markdown",
      "metadata": {
        "id": "_dNRUh_LTaQD"
      },
      "source": [
        "# Outliers Handling"
      ]
    },
    {
      "cell_type": "markdown",
      "metadata": {
        "id": "WHv0oxBuSoIO"
      },
      "source": [
        "####SALE PRICE Outliers"
      ]
    },
    {
      "cell_type": "markdown",
      "metadata": {
        "id": "T1SJjF0wqlY3"
      },
      "source": [
        "As mention in the dataset documentation, sale price 0 indicates the property transfer transactions. So we will remove the 0 values."
      ]
    },
    {
      "cell_type": "code",
      "execution_count": null,
      "metadata": {
        "id": "MQtJult5qkip"
      },
      "outputs": [],
      "source": [
        "dataset.drop(dataset[dataset['SALE PRICE']==0].index,axis=0,inplace=True)"
      ]
    },
    {
      "cell_type": "code",
      "execution_count": null,
      "metadata": {
        "colab": {
          "base_uri": "https://localhost:8080/",
          "height": 410
        },
        "id": "ZXpK7aV9TioC",
        "outputId": "57bcae6d-fd83-4dd7-c04d-6e50598b1b9f"
      },
      "outputs": [
        {
          "output_type": "display_data",
          "data": {
            "text/plain": [
              "<Figure size 864x432 with 1 Axes>"
            ],
            "image/png": "[encoded data removed]"
          },
          "metadata": {}
        }
      ],
      "source": [
        "sns.set_style('whitegrid')\n",
        "sns.set(rc = {'figure.figsize':(12,6)})\n",
        "sns.boxplot(x='SALE PRICE',data=dataset)\n",
        "plt.title('Sell Price in USD')\n",
        "plt.ticklabel_format(style='plain', axis='x')\n",
        "plt.show()"
      ]
    },
    {
      "cell_type": "markdown",
      "metadata": {
        "id": "l7-_wOMTZiZJ"
      },
      "source": [
        "Find outliers using IQR"
      ]
    },
    {
      "cell_type": "code",
      "execution_count": null,
      "metadata": {
        "id": "QGVIYrNhcwF4"
      },
      "outputs": [],
      "source": [
        "def IQR_Calculator(column_name):\n",
        "  Q1 = dataset[column_name].quantile(0.25)\n",
        "  Q3 = dataset[column_name].quantile(0.75)\n",
        "  IQR = Q3-Q1\n",
        "  lower_limit = Q1 - 1.5*IQR\n",
        "  upper_limit = Q3 + 1.5*IQR\n",
        "\n",
        "  outliers_idx = dataset[(dataset[column_name]<lower_limit) | (dataset[column_name]>upper_limit)].index\n",
        "  return outliers_idx"
      ]
    },
    {
      "cell_type": "code",
      "execution_count": null,
      "metadata": {
        "id": "-8w4hiKbdLrB"
      },
      "outputs": [],
      "source": [
        "outliers_idx = IQR_Calculator('SALE PRICE')"
      ]
    },
    {
      "cell_type": "markdown",
      "metadata": {
        "id": "epxWv8D3_VO_"
      },
      "source": [
        "Remove Outliers"
      ]
    },
    {
      "cell_type": "code",
      "execution_count": null,
      "metadata": {
        "id": "4wJetQH9YFNi"
      },
      "outputs": [],
      "source": [
        "dataset.drop(outliers_idx,axis=0,inplace=True)"
      ]
    },
    {
      "cell_type": "code",
      "execution_count": null,
      "metadata": {
        "colab": {
          "base_uri": "https://localhost:8080/",
          "height": 410
        },
        "id": "h3KGCyucagOc",
        "outputId": "873c5797-ea2e-4bef-cbc6-9bc1eb9c3e11"
      },
      "outputs": [
        {
          "output_type": "display_data",
          "data": {
            "text/plain": [
              "<Figure size 864x432 with 1 Axes>"
            ],
            "image/png": "[encoded data removed]"
          },
          "metadata": {}
        }
      ],
      "source": [
        "sns.set_style('whitegrid')\n",
        "sns.set(rc = {'figure.figsize':(12,6)})\n",
        "sns.boxplot(x='SALE PRICE',data= dataset)\n",
        "plt.title('Sell Price in USD')\n",
        "plt.ticklabel_format(style='plain', axis='x')\n",
        "plt.show()"
      ]
    },
    {
      "cell_type": "code",
      "execution_count": null,
      "metadata": {
        "colab": {
          "base_uri": "https://localhost:8080/",
          "height": 410
        },
        "id": "m7nQR_bR98sN",
        "outputId": "d7a3f09d-861e-4051-9363-2695973e0baf"
      },
      "outputs": [
        {
          "output_type": "display_data",
          "data": {
            "text/plain": [
              "<Figure size 864x432 with 1 Axes>"
            ],
            "image/png": "[encoded data removed]"
          },
          "metadata": {}
        }
      ],
      "source": [
        "sns.histplot(dataset['SALE PRICE'],kde=True,bins=100)\n",
        "plt.title('Sell Price in USD')\n",
        "plt.ticklabel_format(style='plain', axis='x')\n",
        "plt.show()"
      ]
    },
    {
      "cell_type": "markdown",
      "metadata": {
        "id": "fUrE-XCM2RpO"
      },
      "source": [
        "Here we can see, many transaction under 100000 dollar which is seem so cheap and not fair. So we will cosider this as outliers and remove it."
      ]
    },
    {
      "cell_type": "code",
      "execution_count": null,
      "metadata": {
        "id": "rj77LBq72O9u"
      },
      "outputs": [],
      "source": [
        "dataset.drop(dataset[dataset['SALE PRICE']<100000].index,axis=0,inplace=True)"
      ]
    },
    {
      "cell_type": "code",
      "execution_count": null,
      "metadata": {
        "colab": {
          "base_uri": "https://localhost:8080/",
          "height": 410
        },
        "id": "HTeYtcH32Oq2",
        "outputId": "03cf0296-de98-4602-9583-7c1bf7b6c05a"
      },
      "outputs": [
        {
          "output_type": "display_data",
          "data": {
            "text/plain": [
              "<Figure size 864x432 with 1 Axes>"
            ],
            "image/png": "[encoded data removed]"
          },
          "metadata": {}
        }
      ],
      "source": [
        "sns.histplot(dataset['SALE PRICE'],kde=True)\n",
        "plt.title('Sell Price in USD')\n",
        "plt.ticklabel_format(style='plain', axis='x')\n",
        "plt.show()"
      ]
    },
    {
      "cell_type": "markdown",
      "metadata": {
        "id": "P-CXoqz9ZnxW"
      },
      "source": [
        "####LAND SQUARE FEET Outliers"
      ]
    },
    {
      "cell_type": "code",
      "execution_count": null,
      "metadata": {
        "colab": {
          "base_uri": "https://localhost:8080/",
          "height": 410
        },
        "id": "CmXyaM6cUvYc",
        "outputId": "42149737-daa1-45ab-b82f-ac479ed824d2"
      },
      "outputs": [
        {
          "output_type": "display_data",
          "data": {
            "text/plain": [
              "<Figure size 864x432 with 1 Axes>"
            ],
            "image/png": "[encoded data removed]"
          },
          "metadata": {}
        }
      ],
      "source": [
        "sns.set_style('whitegrid')\n",
        "sns.set(rc = {'figure.figsize':(12,6)})\n",
        "sns.boxplot(x='LAND SQUARE FEET',data=dataset)\n",
        "plt.title('LAND SQUARE FEET')\n",
        "plt.ticklabel_format(style='plain', axis='x')\n",
        "plt.show()"
      ]
    },
    {
      "cell_type": "code",
      "source": [
        "plt.hist(dataset['LAND SQUARE FEET'],bins=80, density=True)\n",
        "plt.ticklabel_format(style='plain', axis='x')\n",
        "plt.show()"
      ],
      "metadata": {
        "colab": {
          "base_uri": "https://localhost:8080/",
          "height": 388
        },
        "id": "NF8Yve2whR0d",
        "outputId": "eff0d402-52f4-4641-d5fc-b9f410514253"
      },
      "execution_count": null,
      "outputs": [
        {
          "output_type": "display_data",
          "data": {
            "text/plain": [
              "<Figure size 864x432 with 1 Axes>"
            ],
            "image/png": "[encoded data removed]"
          },
          "metadata": {}
        }
      ]
    },
    {
      "cell_type": "markdown",
      "source": [
        "Drop rows where LAND SQUARE FEET is 0"
      ],
      "metadata": {
        "id": "s9nqJ6WnlUBh"
      }
    },
    {
      "cell_type": "code",
      "source": [
        "dataset.drop(dataset[dataset['LAND SQUARE FEET']==0].index,axis=0,inplace=True)"
      ],
      "metadata": {
        "id": "EyLKOmlUh0-r"
      },
      "execution_count": null,
      "outputs": []
    },
    {
      "cell_type": "markdown",
      "metadata": {
        "id": "fg3yG2W9fQJx"
      },
      "source": [
        "Remove Outliers"
      ]
    },
    {
      "cell_type": "code",
      "source": [
        "landSqfeet_outliers_idx = IQR_Calculator('LAND SQUARE FEET')"
      ],
      "metadata": {
        "id": "Wpnc9fXdlcgr"
      },
      "execution_count": null,
      "outputs": []
    },
    {
      "cell_type": "code",
      "execution_count": null,
      "metadata": {
        "id": "ss802U8ncj55"
      },
      "outputs": [],
      "source": [
        "dataset.drop(landSqfeet_outliers_idx,axis=0,inplace=True)"
      ]
    },
    {
      "cell_type": "code",
      "execution_count": null,
      "metadata": {
        "colab": {
          "base_uri": "https://localhost:8080/",
          "height": 410
        },
        "id": "0W8U1OUCcjrP",
        "outputId": "c699ca56-49cb-4b08-d4c1-042b474c1925"
      },
      "outputs": [
        {
          "output_type": "display_data",
          "data": {
            "text/plain": [
              "<Figure size 864x432 with 1 Axes>"
            ],
            "image/png": "[encoded data removed]"
          },
          "metadata": {}
        }
      ],
      "source": [
        "sns.set_style('whitegrid')\n",
        "sns.set(rc = {'figure.figsize':(12,6)})\n",
        "sns.boxplot(x='LAND SQUARE FEET',data=dataset)\n",
        "plt.title('LAND SQUARE FEET')\n",
        "plt.ticklabel_format(style='plain', axis='x')\n",
        "plt.show()"
      ]
    },
    {
      "cell_type": "code",
      "execution_count": null,
      "metadata": {
        "colab": {
          "base_uri": "https://localhost:8080/",
          "height": 410
        },
        "id": "Wp-xjjLOcjCH",
        "outputId": "aa9a219e-dd6d-43b0-cb5d-e3e632713509"
      },
      "outputs": [
        {
          "output_type": "display_data",
          "data": {
            "text/plain": [
              "<Figure size 864x432 with 1 Axes>"
            ],
            "image/png": "[encoded data removed]"
          },
          "metadata": {}
        }
      ],
      "source": [
        "sns.histplot(dataset['LAND SQUARE FEET'])\n",
        "plt.title('LAND SQUARE FEETD')\n",
        "plt.ticklabel_format(style='plain', axis='x')\n",
        "plt.show()"
      ]
    },
    {
      "cell_type": "markdown",
      "metadata": {
        "id": "CKoMAVMQiB-A"
      },
      "source": [
        "####GROSS SQUARE FEET"
      ]
    },
    {
      "cell_type": "code",
      "execution_count": null,
      "metadata": {
        "colab": {
          "base_uri": "https://localhost:8080/",
          "height": 410
        },
        "id": "XlXeLHnFh7CG",
        "outputId": "612da2af-7991-41b1-d308-d857a5c837e3"
      },
      "outputs": [
        {
          "output_type": "display_data",
          "data": {
            "text/plain": [
              "<Figure size 864x432 with 1 Axes>"
            ],
            "image/png": "[encoded data removed]"
          },
          "metadata": {}
        }
      ],
      "source": [
        "sns.set_style('whitegrid')\n",
        "sns.set(rc = {'figure.figsize':(12,6)})\n",
        "sns.boxplot(x='GROSS SQUARE FEET',data=dataset)\n",
        "plt.title('GROSS SQUARE FEET')\n",
        "plt.ticklabel_format(style='plain', axis='x')\n",
        "plt.show()"
      ]
    },
    {
      "cell_type": "code",
      "source": [
        "sns.histplot(dataset['GROSS SQUARE FEET'],bins=30)\n",
        "plt.title('GROSS SQUARE FEET')\n",
        "plt.ticklabel_format(style='plain', axis='x')\n",
        "plt.show()"
      ],
      "metadata": {
        "colab": {
          "base_uri": "https://localhost:8080/",
          "height": 410
        },
        "id": "99fPqxOpln-k",
        "outputId": "d8fb1250-72dc-4ffe-82c2-121f85e72aa3"
      },
      "execution_count": null,
      "outputs": [
        {
          "output_type": "display_data",
          "data": {
            "text/plain": [
              "<Figure size 864x432 with 1 Axes>"
            ],
            "image/png": "[encoded data removed]"
          },
          "metadata": {}
        }
      ]
    },
    {
      "cell_type": "markdown",
      "source": [
        "Drop rows where GROSS SQUARE FEET is 0"
      ],
      "metadata": {
        "id": "pwwySYR-l9z0"
      }
    },
    {
      "cell_type": "code",
      "source": [
        "dataset.drop(dataset[dataset['GROSS SQUARE FEET']==0].index,axis=0,inplace=True)"
      ],
      "metadata": {
        "id": "uTXEHJK0l9PO"
      },
      "execution_count": null,
      "outputs": []
    },
    {
      "cell_type": "markdown",
      "metadata": {
        "id": "nT9Qjn_R3TsO"
      },
      "source": [
        "Remove Outliers"
      ]
    },
    {
      "cell_type": "code",
      "execution_count": null,
      "metadata": {
        "id": "f5DB1wKBiNeu"
      },
      "outputs": [],
      "source": [
        "grossSqFeet_Outliers_idx = IQR_Calculator('GROSS SQUARE FEET')"
      ]
    },
    {
      "cell_type": "code",
      "execution_count": null,
      "metadata": {
        "id": "2u3PWkZxiNPe"
      },
      "outputs": [],
      "source": [
        "dataset.drop(grossSqFeet_Outliers_idx,axis=0,inplace=True)"
      ]
    },
    {
      "cell_type": "code",
      "execution_count": null,
      "metadata": {
        "colab": {
          "base_uri": "https://localhost:8080/",
          "height": 410
        },
        "id": "0rME7OVkiM9y",
        "outputId": "c9df852e-c4dd-4ae0-d196-bfe0e21d9d0b"
      },
      "outputs": [
        {
          "output_type": "display_data",
          "data": {
            "text/plain": [
              "<Figure size 864x432 with 1 Axes>"
            ],
            "image/png": "[encoded data removed]"
          },
          "metadata": {}
        }
      ],
      "source": [
        "sns.set_style('whitegrid')\n",
        "sns.set(rc = {'figure.figsize':(12,6)})\n",
        "sns.boxplot(x='GROSS SQUARE FEET',data=dataset)\n",
        "plt.title('GROSS SQUARE FEET')\n",
        "plt.ticklabel_format(style='plain', axis='x')\n",
        "plt.show()"
      ]
    },
    {
      "cell_type": "code",
      "execution_count": null,
      "metadata": {
        "colab": {
          "base_uri": "https://localhost:8080/",
          "height": 410
        },
        "id": "qDT2dhPm3hdH",
        "outputId": "de65fdf3-ca14-4d77-a7a5-253111c4a35c"
      },
      "outputs": [
        {
          "output_type": "display_data",
          "data": {
            "text/plain": [
              "<Figure size 864x432 with 1 Axes>"
            ],
            "image/png": "[encoded data removed]"
          },
          "metadata": {}
        }
      ],
      "source": [
        "sns.histplot(dataset['GROSS SQUARE FEET'])\n",
        "plt.title('GROSS SQUARE FEET')\n",
        "plt.ticklabel_format(style='plain', axis='x')\n",
        "plt.show()"
      ]
    },
    {
      "cell_type": "code",
      "source": [
        ""
      ],
      "metadata": {
        "id": "gALOoK9cgK11"
      },
      "execution_count": null,
      "outputs": []
    },
    {
      "cell_type": "markdown",
      "metadata": {
        "id": "hBAiYSAapWdk"
      },
      "source": [
        "# Missing Value Handeling\n"
      ]
    },
    {
      "cell_type": "code",
      "execution_count": null,
      "metadata": {
        "colab": {
          "base_uri": "https://localhost:8080/"
        },
        "id": "GSmEV6Oa9WVQ",
        "outputId": "9a41a2c0-5d01-414e-e9f5-ed8481a7dc5a"
      },
      "outputs": [
        {
          "output_type": "execute_result",
          "data": {
            "text/plain": [
              "Unnamed: 0                          0.00\n",
              "BOROUGH                             0.00\n",
              "NEIGHBORHOOD                        0.00\n",
              "BUILDING CLASS CATEGORY             0.00\n",
              "TAX CLASS AT PRESENT                0.44\n",
              "BLOCK                               0.00\n",
              "LOT                                 0.00\n",
              "EASE-MENT                         100.00\n",
              "BUILDING CLASS AT PRESENT           0.44\n",
              "ADDRESS                             0.00\n",
              "APARTMENT NUMBER                   82.19\n",
              "ZIP CODE                            0.00\n",
              "RESIDENTIAL UNITS                   0.00\n",
              "COMMERCIAL UNITS                    0.00\n",
              "TOTAL UNITS                         0.00\n",
              "LAND SQUARE FEET                   40.95\n",
              "GROSS SQUARE FEET                  42.80\n",
              "YEAR BUILT                          0.00\n",
              "TAX CLASS AT TIME OF SALE           0.00\n",
              "BUILDING CLASS AT TIME OF SALE      0.00\n",
              "SALE PRICE                         23.87\n",
              "SALE DATE                           0.00\n",
              "SALE YEAR                           0.00\n",
              "SALE MONTH                          0.00\n",
              "dtype: float64"
            ]
          },
          "metadata": {},
          "execution_count": 333
        }
      ],
      "source": [
        "round(dataset.isnull().sum()*100/len(dataset),2)"
      ]
    },
    {
      "cell_type": "code",
      "execution_count": null,
      "metadata": {
        "colab": {
          "base_uri": "https://localhost:8080/",
          "height": 578
        },
        "id": "pdCJAFQcsuk5",
        "outputId": "2d60dbbf-4048-46c0-cb47-f7b86d69b0eb"
      },
      "outputs": [
        {
          "output_type": "execute_result",
          "data": {
            "text/plain": [
              "<matplotlib.axes._subplots.AxesSubplot at 0x7fd486cff4d0>"
            ]
          },
          "metadata": {},
          "execution_count": 334
        },
        {
          "output_type": "display_data",
          "data": {
            "text/plain": [
              "<Figure size 864x432 with 1 Axes>"
            ],
            "image/png": "[encoded data removed]"
          },
          "metadata": {}
        }
      ],
      "source": [
        "sns.set(rc = {'figure.figsize':(12,6)})\n",
        "sns.heatmap(dataset.isnull(),cbar=False)"
      ]
    },
    {
      "cell_type": "code",
      "execution_count": null,
      "metadata": {
        "colab": {
          "base_uri": "https://localhost:8080/",
          "height": 367
        },
        "id": "sOGZ9c-Svn46",
        "outputId": "ac4c35ad-357f-4b7f-ac61-6e0131ac0e40"
      },
      "outputs": [
        {
          "output_type": "execute_result",
          "data": {
            "text/plain": [
              "<matplotlib.axes._subplots.AxesSubplot at 0x7fd486bceed0>"
            ]
          },
          "metadata": {},
          "execution_count": 335
        },
        {
          "output_type": "display_data",
          "data": {
            "text/plain": [
              "<Figure size 864x432 with 1 Axes>"
            ],
            "image/png": "[encoded data removed]"
          },
          "metadata": {}
        }
      ],
      "source": [
        "nan_col = dataset.columns[dataset.isnull().any()]\n",
        "data = round(dataset[nan_col].isnull().sum()*100/len(dataset),2)\n",
        "data.plot(kind='barh')"
      ]
    },
    {
      "cell_type": "markdown",
      "metadata": {
        "id": "TErQQYT21u2G"
      },
      "source": [
        "Here 100% of BASE-MENT data and around 77% of APARTMENT NUMBER data are missing. It is quite difficult to fill up this amount of data. \n",
        "Also, the name: 0 column does not indicate anything exactly. So, we will drop these columns."
      ]
    },
    {
      "cell_type": "code",
      "execution_count": null,
      "metadata": {
        "id": "ptY9WsZU_FA5"
      },
      "outputs": [],
      "source": [
        "dataset.drop(['Unnamed: 0','EASE-MENT','APARTMENT NUMBER'],axis=1,inplace=True)"
      ]
    },
    {
      "cell_type": "markdown",
      "metadata": {
        "id": "vodQpZS_k3SC"
      },
      "source": [
        "Drop the row where 'TAX CLASS AT PRESENT' and 'BUILDING CLASS AT PRESENT' are null."
      ]
    },
    {
      "cell_type": "code",
      "execution_count": null,
      "metadata": {
        "id": "1wzsZkRmk2Wg"
      },
      "outputs": [],
      "source": [
        "dataset.dropna(subset=['TAX CLASS AT PRESENT','BUILDING CLASS AT PRESENT'],inplace=True)"
      ]
    },
    {
      "cell_type": "markdown",
      "metadata": {
        "id": "A9EXkixAVEhR"
      },
      "source": [
        "Drop the row where 'LAND SQUARE FEET', 'GROSS SQUARE FEET' and 'SALE PRICE' both are null. "
      ]
    },
    {
      "cell_type": "code",
      "execution_count": null,
      "metadata": {
        "id": "e0aDGott9U0Y"
      },
      "outputs": [],
      "source": [
        "#dataset.dropna(subset=['LAND SQUARE FEET','GROSS SQUARE FEET','SALE PRICE'],thresh=1,inplace=True)"
      ]
    },
    {
      "cell_type": "code",
      "execution_count": null,
      "metadata": {
        "colab": {
          "base_uri": "https://localhost:8080/"
        },
        "id": "uAyDlnWHWvxB",
        "outputId": "c48b48b0-c374-4327-e48e-b7799563fb14"
      },
      "outputs": [
        {
          "output_type": "execute_result",
          "data": {
            "text/plain": [
              "LAND SQUARE FEET     40.69\n",
              "GROSS SQUARE FEET    42.55\n",
              "SALE PRICE           23.86\n",
              "dtype: float64"
            ]
          },
          "metadata": {},
          "execution_count": 338
        }
      ],
      "source": [
        "nan_col = dataset.columns[dataset.isnull().any()]\n",
        "round(dataset[nan_col].isnull().sum()*100/len(dataset),2)"
      ]
    },
    {
      "cell_type": "code",
      "execution_count": null,
      "metadata": {
        "colab": {
          "base_uri": "https://localhost:8080/",
          "height": 384
        },
        "id": "5AeU4oUVNi-o",
        "outputId": "b8cb60a1-bc79-46fe-8457-931ccbb5d194"
      },
      "outputs": [
        {
          "output_type": "execute_result",
          "data": {
            "text/plain": [
              "<matplotlib.axes._subplots.AxesSubplot at 0x7fd4a9c9dfd0>"
            ]
          },
          "metadata": {},
          "execution_count": 339
        },
        {
          "output_type": "display_data",
          "data": {
            "text/plain": [
              "<Figure size 864x432 with 1 Axes>"
            ],
            "image/png": "[encoded data removed]"
          },
          "metadata": {}
        }
      ],
      "source": [
        "nan_col = dataset.columns[dataset.isnull().any()]\n",
        "data = round(dataset[nan_col].isnull().sum()*100/len(dataset),2)\n",
        "data.plot(kind='barh')"
      ]
    },
    {
      "cell_type": "markdown",
      "metadata": {
        "id": "nY01OhLMUa3i"
      },
      "source": [
        "Remove rows where TOTAL UNITS 0 and SALE PRICE is null."
      ]
    },
    {
      "cell_type": "code",
      "execution_count": null,
      "metadata": {
        "id": "tk_Y3TkcOqIR"
      },
      "outputs": [],
      "source": [
        "zero_units_idx = dataset[(dataset['TOTAL UNITS']==0) & (dataset['SALE PRICE'].isnull())].index\n",
        "dataset.drop(zero_units_idx,axis=0,inplace=True)"
      ]
    },
    {
      "cell_type": "markdown",
      "metadata": {
        "id": "gZIMs1cQWU4W"
      },
      "source": [
        "Remove rows where RESIDENTIAL UNITS + COMMERCIAL UNITS is not equal TOTAL UNITS"
      ]
    },
    {
      "cell_type": "code",
      "execution_count": null,
      "metadata": {
        "id": "Qg2IotydWj1P"
      },
      "outputs": [],
      "source": [
        "unit_idx = dataset[dataset['RESIDENTIAL UNITS'] + dataset['COMMERCIAL UNITS'] != dataset['TOTAL UNITS']].index\n",
        "dataset.drop(unit_idx,axis=0,inplace=True)"
      ]
    },
    {
      "cell_type": "code",
      "execution_count": null,
      "metadata": {
        "colab": {
          "base_uri": "https://localhost:8080/"
        },
        "id": "7p1shVzT-ZuC",
        "outputId": "738befa0-f53a-405a-ab05-7e1aa7153ac0"
      },
      "outputs": [
        {
          "output_type": "execute_result",
          "data": {
            "text/plain": [
              "LAND SQUARE FEET     38.09\n",
              "GROSS SQUARE FEET    38.84\n",
              "SALE PRICE           19.28\n",
              "dtype: float64"
            ]
          },
          "metadata": {},
          "execution_count": 342
        }
      ],
      "source": [
        "nan_col = dataset.columns[dataset.isnull().any()]\n",
        "round(dataset[nan_col].isnull().sum()*100/len(dataset),2)"
      ]
    },
    {
      "cell_type": "markdown",
      "metadata": {
        "id": "xlNeUzn7ATHt"
      },
      "source": [
        "###Fill the missing values with predictions of model"
      ]
    },
    {
      "cell_type": "markdown",
      "metadata": {
        "id": "4SEPD_Q7YR3-"
      },
      "source": [
        "Create a function for filling the multiple columns missing values"
      ]
    },
    {
      "cell_type": "code",
      "execution_count": null,
      "metadata": {
        "id": "r4mDUQc9YQ_A"
      },
      "outputs": [],
      "source": [
        "def fill_nan(column_name,testData,nan_index):\n",
        "  #Training Data\n",
        "  trainData = dataset.dropna()\n",
        "  trainData = trainData.drop(['NEIGHBORHOOD','BUILDING CLASS CATEGORY','ADDRESS','SALE DATE'],axis=1)\n",
        "  \n",
        "  #split train and test data\n",
        "  x_train = trainData.drop(column_name,axis=1)\n",
        "  y_train = trainData[column_name]\n",
        "  x_test = testData.drop(column_name,axis=1)\n",
        "\n",
        "  #Build LinearRegression Model\n",
        "  lrModel = LinearRegression()\n",
        "  lrModel.fit(x_train,y_train)\n",
        "  prediction = lrModel.predict(x_test)\n",
        "\n",
        "  #convert prediction values to float\n",
        "  pred_values=[]\n",
        "  for item in prediction:\n",
        "    pred_values.append(format(item,'.1f'))\n",
        "\n",
        "  # fill missing values with the new predicted values\n",
        "  dataset.loc[nan_index,column_name] = pred_values"
      ]
    },
    {
      "cell_type": "markdown",
      "metadata": {
        "id": "Cnp__X16Xgrj"
      },
      "source": [
        "####Fill SALE PRICE missing values"
      ]
    },
    {
      "cell_type": "code",
      "source": [
        "# Fill missing values with mean values.\n",
        "dataset['LAND SQUARE FEET']=dataset['LAND SQUARE FEET'].fillna(dataset['LAND SQUARE FEET'].mean())\n",
        "dataset['GROSS SQUARE FEET']=dataset['GROSS SQUARE FEET'].fillna(dataset['GROSS SQUARE FEET'].mean())"
      ],
      "metadata": {
        "id": "xToUwa0pNJcl"
      },
      "execution_count": null,
      "outputs": []
    },
    {
      "cell_type": "code",
      "execution_count": null,
      "metadata": {
        "id": "rEMIY3JQAbp7"
      },
      "outputs": [],
      "source": [
        "testData = dataset[dataset['SALE PRICE'].isnull()]\n",
        "testData = testData.drop(['NEIGHBORHOOD','BUILDING CLASS CATEGORY','ADDRESS','SALE DATE'],axis=1)\n",
        "nan_price_idx = testData.index"
      ]
    },
    {
      "cell_type": "code",
      "execution_count": null,
      "metadata": {
        "id": "UHYMOiggbaAm"
      },
      "outputs": [],
      "source": [
        "fill_nan('SALE PRICE',testData,nan_price_idx)"
      ]
    },
    {
      "cell_type": "code",
      "execution_count": null,
      "metadata": {
        "colab": {
          "base_uri": "https://localhost:8080/"
        },
        "id": "c7JfvsquaQYt",
        "outputId": "9cb32de2-9bf2-435e-f56b-99502eef9193"
      },
      "outputs": [
        {
          "output_type": "execute_result",
          "data": {
            "text/plain": [
              "BOROUGH                           0\n",
              "NEIGHBORHOOD                      0\n",
              "BUILDING CLASS CATEGORY           0\n",
              "TAX CLASS AT PRESENT              0\n",
              "BLOCK                             0\n",
              "LOT                               0\n",
              "BUILDING CLASS AT PRESENT         0\n",
              "ADDRESS                           0\n",
              "ZIP CODE                          0\n",
              "RESIDENTIAL UNITS                 0\n",
              "COMMERCIAL UNITS                  0\n",
              "TOTAL UNITS                       0\n",
              "LAND SQUARE FEET                  0\n",
              "GROSS SQUARE FEET                 0\n",
              "YEAR BUILT                        0\n",
              "TAX CLASS AT TIME OF SALE         0\n",
              "BUILDING CLASS AT TIME OF SALE    0\n",
              "SALE PRICE                        0\n",
              "SALE DATE                         0\n",
              "SALE YEAR                         0\n",
              "SALE MONTH                        0\n",
              "dtype: int64"
            ]
          },
          "metadata": {},
          "execution_count": 347
        }
      ],
      "source": [
        "dataset.isnull().sum()"
      ]
    },
    {
      "cell_type": "code",
      "execution_count": null,
      "metadata": {
        "colab": {
          "base_uri": "https://localhost:8080/",
          "height": 427
        },
        "id": "rNtBja0NghuL",
        "outputId": "1c40e448-2029-410f-cef4-5b6bfbce70ad"
      },
      "outputs": [
        {
          "data": {
            "text/html": [
              "<div>\n",
              "<style scoped>\n",
              "    .dataframe tbody tr th:only-of-type {\n",
              "        vertical-align: middle;\n",
              "    }\n",
              "\n",
              "    .dataframe tbody tr th {\n",
              "        vertical-align: top;\n",
              "    }\n",
              "\n",
              "    .dataframe thead th {\n",
              "        text-align: right;\n",
              "    }\n",
              "</style>\n",
              "<table border=\"1\" class=\"dataframe\">\n",
              "  <thead>\n",
              "    <tr style=\"text-align: right;\">\n",
              "      <th></th>\n",
              "      <th>BOROUGH</th>\n",
              "      <th>NEIGHBORHOOD</th>\n",
              "      <th>BUILDING CLASS CATEGORY</th>\n",
              "      <th>TAX CLASS AT PRESENT</th>\n",
              "      <th>BLOCK</th>\n",
              "      <th>LOT</th>\n",
              "      <th>BUILDING CLASS AT PRESENT</th>\n",
              "      <th>ADDRESS</th>\n",
              "      <th>ZIP CODE</th>\n",
              "      <th>RESIDENTIAL UNITS</th>\n",
              "      <th>...</th>\n",
              "      <th>TOTAL UNITS</th>\n",
              "      <th>LAND SQUARE FEET</th>\n",
              "      <th>GROSS SQUARE FEET</th>\n",
              "      <th>YEAR BUILT</th>\n",
              "      <th>TAX CLASS AT TIME OF SALE</th>\n",
              "      <th>BUILDING CLASS AT TIME OF SALE</th>\n",
              "      <th>SALE PRICE</th>\n",
              "      <th>SALE DATE</th>\n",
              "      <th>SALE YEAR</th>\n",
              "      <th>SALE MONTH</th>\n",
              "    </tr>\n",
              "  </thead>\n",
              "  <tbody>\n",
              "    <tr>\n",
              "      <th>175</th>\n",
              "      <td>1</td>\n",
              "      <td>1.0</td>\n",
              "      <td>14.0</td>\n",
              "      <td>5.0</td>\n",
              "      <td>394</td>\n",
              "      <td>5</td>\n",
              "      <td>141.0</td>\n",
              "      <td>183 AVENUE B</td>\n",
              "      <td>10009</td>\n",
              "      <td>5</td>\n",
              "      <td>...</td>\n",
              "      <td>6</td>\n",
              "      <td>1779.0</td>\n",
              "      <td>3713.0</td>\n",
              "      <td>1910</td>\n",
              "      <td>2</td>\n",
              "      <td>141.0</td>\n",
              "      <td>1081808.1</td>\n",
              "      <td>2017-04-03</td>\n",
              "      <td>2017</td>\n",
              "      <td>4</td>\n",
              "    </tr>\n",
              "    <tr>\n",
              "      <th>204</th>\n",
              "      <td>1</td>\n",
              "      <td>39.0</td>\n",
              "      <td>0.0</td>\n",
              "      <td>0.0</td>\n",
              "      <td>766</td>\n",
              "      <td>13</td>\n",
              "      <td>8.0</td>\n",
              "      <td>251 WEST 16TH   STREET</td>\n",
              "      <td>10011</td>\n",
              "      <td>1</td>\n",
              "      <td>...</td>\n",
              "      <td>1</td>\n",
              "      <td>1360.0</td>\n",
              "      <td>2736.0</td>\n",
              "      <td>1910</td>\n",
              "      <td>1</td>\n",
              "      <td>8.0</td>\n",
              "      <td>749951.5</td>\n",
              "      <td>2017-01-06</td>\n",
              "      <td>2017</td>\n",
              "      <td>1</td>\n",
              "    </tr>\n",
              "    <tr>\n",
              "      <th>205</th>\n",
              "      <td>1</td>\n",
              "      <td>39.0</td>\n",
              "      <td>0.0</td>\n",
              "      <td>0.0</td>\n",
              "      <td>766</td>\n",
              "      <td>13</td>\n",
              "      <td>8.0</td>\n",
              "      <td>251 WEST 16TH   STREET</td>\n",
              "      <td>10011</td>\n",
              "      <td>1</td>\n",
              "      <td>...</td>\n",
              "      <td>1</td>\n",
              "      <td>1360.0</td>\n",
              "      <td>2736.0</td>\n",
              "      <td>1910</td>\n",
              "      <td>1</td>\n",
              "      <td>8.0</td>\n",
              "      <td>748939.4</td>\n",
              "      <td>2016-10-20</td>\n",
              "      <td>2016</td>\n",
              "      <td>10</td>\n",
              "    </tr>\n",
              "    <tr>\n",
              "      <th>210</th>\n",
              "      <td>1</td>\n",
              "      <td>39.0</td>\n",
              "      <td>1.0</td>\n",
              "      <td>0.0</td>\n",
              "      <td>743</td>\n",
              "      <td>61</td>\n",
              "      <td>11.0</td>\n",
              "      <td>328 WEST 20TH STREET</td>\n",
              "      <td>10011</td>\n",
              "      <td>2</td>\n",
              "      <td>...</td>\n",
              "      <td>2</td>\n",
              "      <td>1526.0</td>\n",
              "      <td>3168.0</td>\n",
              "      <td>1910</td>\n",
              "      <td>1</td>\n",
              "      <td>11.0</td>\n",
              "      <td>849183.5</td>\n",
              "      <td>2017-02-24</td>\n",
              "      <td>2017</td>\n",
              "      <td>2</td>\n",
              "    </tr>\n",
              "    <tr>\n",
              "      <th>211</th>\n",
              "      <td>1</td>\n",
              "      <td>39.0</td>\n",
              "      <td>1.0</td>\n",
              "      <td>0.0</td>\n",
              "      <td>766</td>\n",
              "      <td>18</td>\n",
              "      <td>9.0</td>\n",
              "      <td>241 WEST 16TH   STREET</td>\n",
              "      <td>10011</td>\n",
              "      <td>2</td>\n",
              "      <td>...</td>\n",
              "      <td>2</td>\n",
              "      <td>2000.0</td>\n",
              "      <td>2520.0</td>\n",
              "      <td>1901</td>\n",
              "      <td>1</td>\n",
              "      <td>9.0</td>\n",
              "      <td>772737.6</td>\n",
              "      <td>2017-03-28</td>\n",
              "      <td>2017</td>\n",
              "      <td>3</td>\n",
              "    </tr>\n",
              "  </tbody>\n",
              "</table>\n",
              "<p>5 rows × 21 columns</p>\n",
              "</div>"
            ],
            "text/plain": [
              "    BOROUGH  NEIGHBORHOOD  BUILDING CLASS CATEGORY  TAX CLASS AT PRESENT  \\\n",
              "175       1           1.0                     14.0                   5.0   \n",
              "204       1          39.0                      0.0                   0.0   \n",
              "205       1          39.0                      0.0                   0.0   \n",
              "210       1          39.0                      1.0                   0.0   \n",
              "211       1          39.0                      1.0                   0.0   \n",
              "\n",
              "     BLOCK  LOT  BUILDING CLASS AT PRESENT                 ADDRESS  ZIP CODE  \\\n",
              "175    394    5                      141.0            183 AVENUE B     10009   \n",
              "204    766   13                        8.0  251 WEST 16TH   STREET     10011   \n",
              "205    766   13                        8.0  251 WEST 16TH   STREET     10011   \n",
              "210    743   61                       11.0    328 WEST 20TH STREET     10011   \n",
              "211    766   18                        9.0  241 WEST 16TH   STREET     10011   \n",
              "\n",
              "     RESIDENTIAL UNITS  ...  TOTAL UNITS  LAND SQUARE FEET  GROSS SQUARE FEET  \\\n",
              "175                  5  ...            6            1779.0             3713.0   \n",
              "204                  1  ...            1            1360.0             2736.0   \n",
              "205                  1  ...            1            1360.0             2736.0   \n",
              "210                  2  ...            2            1526.0             3168.0   \n",
              "211                  2  ...            2            2000.0             2520.0   \n",
              "\n",
              "     YEAR BUILT  TAX CLASS AT TIME OF SALE BUILDING CLASS AT TIME OF SALE  \\\n",
              "175        1910                          2                          141.0   \n",
              "204        1910                          1                            8.0   \n",
              "205        1910                          1                            8.0   \n",
              "210        1910                          1                           11.0   \n",
              "211        1901                          1                            9.0   \n",
              "\n",
              "     SALE PRICE  SALE DATE SALE YEAR  SALE MONTH  \n",
              "175   1081808.1 2017-04-03      2017           4  \n",
              "204    749951.5 2017-01-06      2017           1  \n",
              "205    748939.4 2016-10-20      2016          10  \n",
              "210    849183.5 2017-02-24      2017           2  \n",
              "211    772737.6 2017-03-28      2017           3  \n",
              "\n",
              "[5 rows x 21 columns]"
            ]
          },
          "execution_count": 50,
          "metadata": {},
          "output_type": "execute_result"
        }
      ],
      "source": [
        "dataset.head()"
      ]
    },
    {
      "cell_type": "code",
      "source": [
        "dataset.dropna(inplace=True)"
      ],
      "metadata": {
        "id": "ckUBUfslMT2B"
      },
      "execution_count": null,
      "outputs": []
    },
    {
      "cell_type": "code",
      "execution_count": null,
      "metadata": {
        "colab": {
          "base_uri": "https://localhost:8080/"
        },
        "id": "C5rpytHr-D6r",
        "outputId": "f6114fa0-b883-4260-ac01-90f101a88ea8"
      },
      "outputs": [
        {
          "output_type": "stream",
          "name": "stdout",
          "text": [
            "<class 'pandas.core.frame.DataFrame'>\n",
            "Int64Index: 50819 entries, 13 to 84545\n",
            "Data columns (total 21 columns):\n",
            " #   Column                          Non-Null Count  Dtype         \n",
            "---  ------                          --------------  -----         \n",
            " 0   BOROUGH                         50819 non-null  object        \n",
            " 1   NEIGHBORHOOD                    50819 non-null  float64       \n",
            " 2   BUILDING CLASS CATEGORY         50819 non-null  float64       \n",
            " 3   TAX CLASS AT PRESENT            50819 non-null  float64       \n",
            " 4   BLOCK                           50819 non-null  int64         \n",
            " 5   LOT                             50819 non-null  int64         \n",
            " 6   BUILDING CLASS AT PRESENT       50819 non-null  float64       \n",
            " 7   ADDRESS                         50819 non-null  object        \n",
            " 8   ZIP CODE                        50819 non-null  int64         \n",
            " 9   RESIDENTIAL UNITS               50819 non-null  int64         \n",
            " 10  COMMERCIAL UNITS                50819 non-null  int64         \n",
            " 11  TOTAL UNITS                     50819 non-null  int64         \n",
            " 12  LAND SQUARE FEET                50819 non-null  float64       \n",
            " 13  GROSS SQUARE FEET               50819 non-null  float64       \n",
            " 14  YEAR BUILT                      50819 non-null  int64         \n",
            " 15  TAX CLASS AT TIME OF SALE       50819 non-null  object        \n",
            " 16  BUILDING CLASS AT TIME OF SALE  50819 non-null  float64       \n",
            " 17  SALE PRICE                      50819 non-null  object        \n",
            " 18  SALE DATE                       50819 non-null  datetime64[ns]\n",
            " 19  SALE YEAR                       50819 non-null  int64         \n",
            " 20  SALE MONTH                      50819 non-null  int64         \n",
            "dtypes: datetime64[ns](1), float64(7), int64(9), object(4)\n",
            "memory usage: 10.5+ MB\n"
          ]
        }
      ],
      "source": [
        "dataset.info()"
      ]
    },
    {
      "cell_type": "markdown",
      "metadata": {
        "id": "-t0vqfZ_-D6s"
      },
      "source": [
        "Here, we can see some columns are mistyped. Let's fixed this"
      ]
    },
    {
      "cell_type": "code",
      "execution_count": null,
      "metadata": {
        "id": "JlcIiwAm-D6s"
      },
      "outputs": [],
      "source": [
        "dataset['BOROUGH'] = pd.to_numeric(dataset['BOROUGH'],errors = 'coerce')\n",
        "dataset['SALE PRICE'] = pd.to_numeric(dataset['SALE PRICE'],errors = 'coerce')\n",
        "dataset['TAX CLASS AT TIME OF SALE'] = pd.to_numeric(dataset['TAX CLASS AT TIME OF SALE'],errors = 'coerce')"
      ]
    },
    {
      "cell_type": "code",
      "execution_count": null,
      "metadata": {
        "id": "YcNH9qf3-D6t"
      },
      "outputs": [],
      "source": [
        ""
      ]
    },
    {
      "cell_type": "markdown",
      "metadata": {
        "id": "o-sO52bQl41v"
      },
      "source": [
        "#Find Feature importance using mutual information"
      ]
    },
    {
      "cell_type": "code",
      "execution_count": null,
      "metadata": {
        "id": "mtEuietV9daz"
      },
      "outputs": [],
      "source": [
        "from sklearn.feature_selection import mutual_info_regression\n",
        "from sklearn.model_selection import train_test_split"
      ]
    },
    {
      "cell_type": "markdown",
      "metadata": {
        "id": "YxX9YWxMQm0f"
      },
      "source": [
        "Drop unnecessary columns"
      ]
    },
    {
      "cell_type": "code",
      "execution_count": null,
      "metadata": {
        "id": "hHgXShK7Qkyk"
      },
      "outputs": [],
      "source": [
        "dataset.drop(['ADDRESS','SALE DATE'],axis=1,inplace=True)"
      ]
    },
    {
      "cell_type": "code",
      "execution_count": null,
      "metadata": {
        "id": "CqLZt9B7mYHL"
      },
      "outputs": [],
      "source": [
        "X = dataset.drop('SALE PRICE',axis=1)\n",
        "y = dataset['SALE PRICE']"
      ]
    },
    {
      "cell_type": "code",
      "execution_count": null,
      "metadata": {
        "id": "m9k_ABFdnFYd"
      },
      "outputs": [],
      "source": [
        "X_train, X_test, y_train, y_test = train_test_split(X, y, test_size=0.3, random_state=101)"
      ]
    },
    {
      "cell_type": "code",
      "execution_count": null,
      "metadata": {
        "colab": {
          "base_uri": "https://localhost:8080/"
        },
        "id": "wIgc_DGK9dJ0",
        "outputId": "cbbd78b1-e5b5-4c0e-8bed-c7c83c11e617"
      },
      "outputs": [
        {
          "output_type": "execute_result",
          "data": {
            "text/plain": [
              "array([0.22174998, 0.36351827, 0.25525268, 0.11200136, 0.29243225,\n",
              "       0.13846029, 0.27619907, 0.36243606, 0.12713219, 0.00161907,\n",
              "       0.14375766, 0.12265943, 0.18626161, 0.19050867, 0.09169756,\n",
              "       0.27570993, 0.00627475, 0.02844667])"
            ]
          },
          "metadata": {},
          "execution_count": 354
        }
      ],
      "source": [
        "mutual_info = mutual_info_regression(X_train,y_train)\n",
        "mutual_info"
      ]
    },
    {
      "cell_type": "code",
      "execution_count": null,
      "metadata": {
        "colab": {
          "base_uri": "https://localhost:8080/"
        },
        "id": "U71R8CGNSGUw",
        "outputId": "d07de5ab-a66b-451a-f1a0-45b56afe2313"
      },
      "outputs": [
        {
          "output_type": "execute_result",
          "data": {
            "text/plain": [
              "NEIGHBORHOOD                      0.363518\n",
              "ZIP CODE                          0.362436\n",
              "BLOCK                             0.292432\n",
              "BUILDING CLASS AT PRESENT         0.276199\n",
              "BUILDING CLASS AT TIME OF SALE    0.275710\n",
              "BUILDING CLASS CATEGORY           0.255253\n",
              "BOROUGH                           0.221750\n",
              "YEAR BUILT                        0.190509\n",
              "GROSS SQUARE FEET                 0.186262\n",
              "TOTAL UNITS                       0.143758\n",
              "LOT                               0.138460\n",
              "RESIDENTIAL UNITS                 0.127132\n",
              "LAND SQUARE FEET                  0.122659\n",
              "TAX CLASS AT PRESENT              0.112001\n",
              "TAX CLASS AT TIME OF SALE         0.091698\n",
              "SALE MONTH                        0.028447\n",
              "SALE YEAR                         0.006275\n",
              "COMMERCIAL UNITS                  0.001619\n",
              "dtype: float64"
            ]
          },
          "metadata": {},
          "execution_count": 355
        }
      ],
      "source": [
        "mutual_info = pd.Series(mutual_info)\n",
        "mutual_info.index = X_train.columns\n",
        "mutual_info.sort_values(ascending=False)"
      ]
    },
    {
      "cell_type": "markdown",
      "metadata": {
        "id": "Is-U7oAmU-gY",
        "outputId": "22fd31d2-ac52-46cb-ae93-e32b19c73743"
      },
      "source": [
        "Drop Sale Year as it is not important"
      ]
    },
    {
      "cell_type": "code",
      "execution_count": null,
      "metadata": {
        "id": "GOuQv4WSisyR"
      },
      "outputs": [],
      "source": [
        "dataset.drop('SALE YEAR',axis=1,inplace=True)"
      ]
    },
    {
      "cell_type": "markdown",
      "metadata": {
        "id": "Xlr4vzY8-D6w"
      },
      "source": [
        "check dataframe contain negative values or not"
      ]
    },
    {
      "cell_type": "code",
      "execution_count": null,
      "metadata": {
        "colab": {
          "base_uri": "https://localhost:8080/"
        },
        "id": "vp9LPQES-D6x",
        "outputId": "251deee8-058e-46eb-bad8-68575dcacf88"
      },
      "outputs": [
        {
          "output_type": "execute_result",
          "data": {
            "text/plain": [
              "False"
            ]
          },
          "metadata": {},
          "execution_count": 357
        }
      ],
      "source": [
        "(dataset.values < 0).any()"
      ]
    },
    {
      "cell_type": "markdown",
      "metadata": {
        "id": "pjcKJhTy-D6z"
      },
      "source": [
        "Remove Negative values"
      ]
    },
    {
      "cell_type": "code",
      "execution_count": null,
      "metadata": {
        "id": "cLqcBswj-D60"
      },
      "outputs": [],
      "source": [
        ""
      ]
    },
    {
      "cell_type": "markdown",
      "metadata": {
        "id": "DQEAVycwcSs4"
      },
      "source": [
        "#Machine Learning Model"
      ]
    },
    {
      "cell_type": "markdown",
      "metadata": {
        "id": "m1YPSwyvZJIm"
      },
      "source": [
        "We will try 2 Regression Model:\n",
        "> Random Forest Regressor\n",
        "\n",
        "> XGBRegressor"
      ]
    },
    {
      "cell_type": "code",
      "execution_count": null,
      "metadata": {
        "id": "QsSdDEP-ZpeM"
      },
      "outputs": [],
      "source": [
        "from sklearn.ensemble import RandomForestRegressor\n",
        "from xgboost import XGBRegressor"
      ]
    },
    {
      "cell_type": "code",
      "execution_count": null,
      "metadata": {
        "id": "-yNEba8FZpRE"
      },
      "outputs": [],
      "source": [
        "rfrModel = RandomForestRegressor()\n",
        "xgbrModel = XGBRegressor()"
      ]
    },
    {
      "cell_type": "code",
      "execution_count": null,
      "metadata": {
        "id": "RI0AJnkga0BD"
      },
      "outputs": [],
      "source": [
        "X = dataset.drop('SALE PRICE',axis=1)\n",
        "y = dataset['SALE PRICE']"
      ]
    },
    {
      "cell_type": "code",
      "execution_count": null,
      "metadata": {
        "id": "aNLg6f_KgqK0"
      },
      "outputs": [],
      "source": [
        "X_train, X_test, y_train, y_test = train_test_split(X, y, test_size=0.3, random_state=101)"
      ]
    },
    {
      "cell_type": "code",
      "execution_count": null,
      "metadata": {
        "colab": {
          "base_uri": "https://localhost:8080/"
        },
        "id": "jocAP_u3az2E",
        "outputId": "fe977c7e-c9cc-4caf-dcf3-ec9e1b893bd6"
      },
      "outputs": [
        {
          "output_type": "stream",
          "name": "stdout",
          "text": [
            "[06:24:02] WARNING: /workspace/src/objective/regression_obj.cu:152: reg:linear is now deprecated in favor of reg:squarederror.\n"
          ]
        },
        {
          "output_type": "execute_result",
          "data": {
            "text/plain": [
              "XGBRegressor()"
            ]
          },
          "metadata": {},
          "execution_count": 363
        }
      ],
      "source": [
        "rfrModel.fit(X_train,y_train)\n",
        "xgbrModel.fit(X_train,y_train)"
      ]
    },
    {
      "cell_type": "code",
      "execution_count": null,
      "metadata": {
        "id": "zFPIsMt8fI1x"
      },
      "outputs": [],
      "source": [
        "rfr_pred = rfrModel.predict(X_test)\n",
        "xgbr_pred = xgbrModel.predict(X_test)"
      ]
    },
    {
      "cell_type": "markdown",
      "metadata": {
        "id": "iFiMSVrodGFo"
      },
      "source": [
        "###Evaluating the model"
      ]
    },
    {
      "cell_type": "markdown",
      "metadata": {
        "id": "PnvK8NNDeqWi"
      },
      "source": [
        "We will evaluate this two model by\n",
        "\n",
        "> Mean Absolute Error(MAE)\n",
        "\n",
        "> Mean Square Error(MSE)\n",
        "\n",
        "> Root Mean Square Error(RMSE)\n",
        "\n",
        "> R Squared (R2)\n",
        "\n"
      ]
    },
    {
      "cell_type": "code",
      "execution_count": null,
      "metadata": {
        "id": "ifQkIEruPN7q"
      },
      "outputs": [],
      "source": [
        "from sklearn.metrics import mean_absolute_error,mean_squared_error,r2_score"
      ]
    },
    {
      "cell_type": "code",
      "execution_count": null,
      "metadata": {
        "colab": {
          "base_uri": "https://localhost:8080/"
        },
        "id": "2p7d25hBazpF",
        "outputId": "7e2d529d-474a-4786-9c9f-0f467f67da75"
      },
      "outputs": [
        {
          "output_type": "stream",
          "name": "stdout",
          "text": [
            "RandomForestRegressor\n",
            "MAE: 159341.3286864486\n",
            "MSE: 57523642494.82191\n",
            "RMSE: 399.1758117502219\n",
            "R2: 0.6061013407202139\n"
          ]
        }
      ],
      "source": [
        "print('RandomForestRegressor')\n",
        "print('MAE:',mean_absolute_error(y_test,rfr_pred))\n",
        "print('MSE:',mean_squared_error(y_test,rfr_pred))\n",
        "print('RMSE:',np.sqrt(mean_absolute_error(y_test,rfr_pred)))\n",
        "print('R2:',r2_score(y_test,rfr_pred))"
      ]
    },
    {
      "cell_type": "code",
      "execution_count": null,
      "metadata": {
        "colab": {
          "base_uri": "https://localhost:8080/"
        },
        "id": "_hwE4tvffCl6",
        "outputId": "4773f8d9-c754-481d-896e-ab926a25a0ef"
      },
      "outputs": [
        {
          "output_type": "stream",
          "name": "stdout",
          "text": [
            "XGBRegressor\n",
            "MAE: 177485.09285898757\n",
            "MSE: 67996361753.15362\n",
            "RMSE: 421.28979676582196\n",
            "R2: 0.534388391123154\n"
          ]
        }
      ],
      "source": [
        "print('XGBRegressor')\n",
        "print('MAE:',mean_absolute_error(y_test,xgbr_pred))\n",
        "print('MSE:',mean_squared_error(y_test,xgbr_pred))\n",
        "print('RMSE:',np.sqrt(mean_absolute_error(y_test,xgbr_pred)))\n",
        "print('R2:',r2_score(y_test,xgbr_pred))"
      ]
    },
    {
      "cell_type": "markdown",
      "metadata": {
        "id": "4Pd13SyylbEi"
      },
      "source": [
        "As we can see the Random Forest Regressor model perform better than XGBoost Regressor model."
      ]
    },
    {
      "cell_type": "markdown",
      "metadata": {
        "id": "_vgpTzCtlvtP"
      },
      "source": [
        "### Hyperparameter Optimizatio for Random Forest Regressor"
      ]
    },
    {
      "cell_type": "code",
      "execution_count": null,
      "metadata": {
        "id": "GiVPjxyYuObi"
      },
      "outputs": [],
      "source": [
        "from sklearn.model_selection import RandomizedSearchCV"
      ]
    },
    {
      "cell_type": "code",
      "execution_count": null,
      "metadata": {
        "id": "xH_uOtHjvLG_"
      },
      "outputs": [],
      "source": [
        "param = {'n_estimators':[100,200],\n",
        "         'criterion':['squared_error','absolute_error','poisson'],\n",
        "         'max_depth':[5,10,20,None],\n",
        "         'min_samples_split':[2,4,10],\n",
        "         'min_samples_leaf':[1,2,8],\n",
        "         'max_features':['auto', 'sqrt','log2',None],\n",
        "         'bootstrap':[True,False]}"
      ]
    },
    {
      "cell_type": "code",
      "execution_count": null,
      "metadata": {
        "id": "PuBIU-eJu7bp"
      },
      "outputs": [],
      "source": [
        "rfr_random = RandomizedSearchCV(estimator = rfrModel,param_distributions = param,n_jobs = -1,cv = 7)"
      ]
    },
    {
      "cell_type": "code",
      "execution_count": null,
      "metadata": {
        "colab": {
          "base_uri": "https://localhost:8080/"
        },
        "id": "ZwvRJAoGu7SS",
        "outputId": "2761aeb6-55ab-4642-cbb3-b91b87446205",
        "scrolled": false
      },
      "outputs": [
        {
          "data": {
            "text/plain": [
              "RandomizedSearchCV(cv=7, estimator=RandomForestRegressor(), n_jobs=-1,\n",
              "                   param_distributions={'bootstrap': [True, False],\n",
              "                                        'criterion': ['squared_error',\n",
              "                                                      'absolute_error',\n",
              "                                                      'poisson'],\n",
              "                                        'max_depth': [5, 10, 20, None],\n",
              "                                        'max_features': ['auto', 'sqrt', 'log2',\n",
              "                                                         None],\n",
              "                                        'min_samples_leaf': [1, 2, 8],\n",
              "                                        'min_samples_split': [2, 4, 10],\n",
              "                                        'n_estimators': [100, 200]})"
            ]
          },
          "execution_count": 75,
          "metadata": {},
          "output_type": "execute_result"
        }
      ],
      "source": [
        "rfr_random.fit(X_train,y_train)"
      ]
    },
    {
      "cell_type": "code",
      "execution_count": null,
      "metadata": {
        "id": "enYffJQaJVub",
        "outputId": "3ed3d207-3200-49c7-b4f9-9a8cc4cd4d38"
      },
      "outputs": [
        {
          "data": {
            "text/plain": [
              "{'n_estimators': 200,\n",
              " 'min_samples_split': 4,\n",
              " 'min_samples_leaf': 2,\n",
              " 'max_features': 'log2',\n",
              " 'max_depth': None,\n",
              " 'criterion': 'absolute_error',\n",
              " 'bootstrap': True}"
            ]
          },
          "execution_count": 84,
          "metadata": {},
          "output_type": "execute_result"
        }
      ],
      "source": [
        "ht_params=rfr_random.best_params_\n",
        "ht_params"
      ]
    },
    {
      "cell_type": "code",
      "execution_count": null,
      "metadata": {
        "id": "6mEX5rzP-D68",
        "outputId": "c8830d7a-707d-432d-9931-96365433c967"
      },
      "outputs": [
        {
          "data": {
            "text/plain": [
              "0.6019269385522199"
            ]
          },
          "execution_count": 83,
          "metadata": {},
          "output_type": "execute_result"
        }
      ],
      "source": [
        "rfr_random.best_score_"
      ]
    },
    {
      "cell_type": "markdown",
      "metadata": {
        "id": "cO75hjxn-D68"
      },
      "source": [
        "## Tuned Model"
      ]
    },
    {
      "cell_type": "code",
      "execution_count": null,
      "metadata": {
        "id": "3L7qK-ty-D69"
      },
      "outputs": [],
      "source": [
        "rfrModel = RandomForestRegressor(n_estimators= 200,\n",
        "     min_samples_split= 4,\n",
        "     min_samples_leaf= 2,\n",
        "     max_features= 'log2',\n",
        "     max_depth= None,\n",
        "     criterion= 'absolute_error',\n",
        "     bootstrap= True)"
      ]
    },
    {
      "cell_type": "code",
      "execution_count": null,
      "metadata": {
        "id": "9bGy_p8M-D69",
        "outputId": "526d183c-351a-4a23-843a-f9bbfdae513e"
      },
      "outputs": [
        {
          "data": {
            "text/plain": [
              "RandomForestRegressor(criterion='absolute_error', max_features='log2',\n",
              "                      min_samples_leaf=2, min_samples_split=4,\n",
              "                      n_estimators=200)"
            ]
          },
          "execution_count": 86,
          "metadata": {},
          "output_type": "execute_result"
        }
      ],
      "source": [
        "rfrModel.fit(X_train,y_train)"
      ]
    },
    {
      "cell_type": "code",
      "execution_count": null,
      "metadata": {
        "id": "lSp4A9eA-D6-"
      },
      "outputs": [],
      "source": [
        "rfr_pred = rfrModel.predict(X_test)"
      ]
    },
    {
      "cell_type": "code",
      "execution_count": null,
      "metadata": {
        "id": "OwWxmj2C-D6-",
        "outputId": "71d39053-1fdd-40aa-c1da-bfd7c6f8202a"
      },
      "outputs": [
        {
          "name": "stdout",
          "output_type": "stream",
          "text": [
            "RandomForestRegressor\n",
            "MAE: 132189.10921062596\n",
            "MSE: 41087142470.099\n",
            "RMSE: 363.57820233152864\n",
            "R2: 0.6099930006555903\n"
          ]
        }
      ],
      "source": [
        "print('RandomForestRegressor')\n",
        "print('MAE:',mean_absolute_error(y_test,rfr_pred))\n",
        "print('MSE:',mean_squared_error(y_test,rfr_pred))\n",
        "print('RMSE:',np.sqrt(mean_absolute_error(y_test,rfr_pred)))\n",
        "print('R2:',r2_score(y_test,rfr_pred))"
      ]
    },
    {
      "cell_type": "code",
      "execution_count": null,
      "metadata": {
        "id": "hlAmOLQR-D6_"
      },
      "outputs": [],
      "source": [
        ""
      ]
    }
  ],
  "metadata": {
    "colab": {
      "collapsed_sections": [],
      "name": "NYC_Property_Price_Prediction.ipynb",
      "provenance": []
    },
    "kernelspec": {
      "display_name": "Python 3 (ipykernel)",
      "language": "python",
      "name": "python3"
    },
    "language_info": {
      "codemirror_mode": {
        "name": "ipython",
        "version": 3
      },
      "file_extension": ".py",
      "mimetype": "text/x-python",
      "name": "python",
      "nbconvert_exporter": "python",
      "pygments_lexer": "ipython3",
      "version": "3.9.0"
    },
    "varInspector": {
      "cols": {
        "lenName": 16,
        "lenType": 16,
        "lenVar": 40
      },
      "kernels_config": {
        "python": {
          "delete_cmd_postfix": "",
          "delete_cmd_prefix": "del ",
          "library": "var_list.py",
          "varRefreshCmd": "print(var_dic_list())"
        },
        "r": {
          "delete_cmd_postfix": ") ",
          "delete_cmd_prefix": "rm(",
          "library": "var_list.r",
          "varRefreshCmd": "cat(var_dic_list()) "
        }
      },
      "types_to_exclude": [
        "module",
        "function",
        "builtin_function_or_method",
        "instance",
        "_Feature"
      ],
      "window_display": false
    }
  },
  "nbformat": 4,
  "nbformat_minor": 0
}